{
 "cells": [
  {
   "cell_type": "markdown",
   "metadata": {},
   "source": [
    "#### Defined by User"
   ]
  },
  {
   "cell_type": "code",
   "execution_count": null,
   "metadata": {},
   "outputs": [],
   "source": [
    "## specify your Dkube username\n",
    "DKUBEUSERNAME = \"ocdkube\"\n",
    "\n",
    "## Define the model monitor name here that you will be creating \n",
    "MONITOR_NAME = \"precomputed-mm\"\n",
    "\n",
    "## Specify the data source [aws-s3,sql,local]\n",
    "PRECOMPUTED_DATA_SOURCE = \"local\"\n",
    "\n",
    "PRESCORE_DATASET = f\"{MONITOR_NAME}-{PRECOMPUTED_DATA_SOURCE}\"\n",
    "## Dkube information\n",
    "import os\n",
    "TOKEN = os.getenv(\"DKUBE_USER_ACCESS_TOKEN\",\"\")\n",
    "DKUBE_URL = os.getenv(\"DKUBE_URL\",\"\")\n",
    "\n",
    "## AWS_S3 \n",
    "ACCESS_KEY = os.getenv(\"AWS_ACCESS_KEY_ID\",\"\")\n",
    "SECRET_KEY = os.getenv(\"AWS_SECRET_ACCESS_KEY\",\"\")\n",
    "BUCKET = os.getenv(\"BUCKET\",\"\")\n",
    "## SQL\n",
    "# DBHOSTNAME should be provided in the one of the following format.\n",
    "# IP:PORT for eg 127.0.0.1:3306\n",
    "# DOMAIN:PORT for eg my-db.com:3306\n",
    "DBHOSTNAME   = os.getenv(\"DBHOSTNAME\",\"\")\n",
    "DATABASENAME = os.getenv(\"DATABASENAME\",\"\")\n",
    "DBUSERNAME   = os.getenv(\"DBUSERNAME\",\"\")\n",
    "DBPASSWORD   = os.getenv(\"DBPASSWORD\",\"\")\n",
    "\n",
    "\n",
    "# supported value for the example are mysql or mssql\n",
    "DB_PROVIDER = \"mysql\"\n",
    "\n",
    "# the frequency with which monitoring will run\n",
    "RUN_FREQUENCY = 5\n",
    "\n",
    "if TOKEN == '' or DKUBEUSERNAME == '' or DKUBE_URL == '':\n",
    "    print(\"Please fill the Dkube details first (TOKEN, DKUBE_URL, DKUBEUSERNAME)\")\n",
    "    raise TypeError\n",
    "if PRECOMPUTED_DATA_SOURCE == 'aws_s3' and (ACCESS_KEY == '' or SECRET_KEY == '' or BUCKET == ''):\n",
    "    print(\"Please fill the AWS_S3 details first (ACCESS_KEY, SECRET_KEY, BUCKET)\")\n",
    "    raise TypeError\n",
    "if PRECOMPUTED_DATA_SOURCE == 'sql' and (DBHOSTNAME == '' or DATABASENAME == '' or DBUSERNAME == '' or DBPASSWORD == ''):\n",
    "    print(\"Please fill the SQL details first (DBHOSTNAME, DATABASENAME, DBUSERNAME, DBPASSWORD)\")\n",
    "    raise TypeError\n",
    "if PRECOMPUTED_DATA_SOURCE == \"sql\" and DB_PROVIDER not in [\"mysql\", \"mssql\"]:\n",
    "    raise ValueError(f\"{DB_PROVIDER} is not supported\")"
   ]
  },
  {
   "cell_type": "code",
   "execution_count": null,
   "metadata": {},
   "outputs": [],
   "source": [
    "import time,json,shutil\n",
    "from dkube.sdk import *"
   ]
  },
  {
   "cell_type": "code",
   "execution_count": null,
   "metadata": {},
   "outputs": [],
   "source": [
    "api = DkubeApi(URL=DKUBE_URL,token=TOKEN)\n",
    "if DKUBEUSERNAME == api.validate_token()['username']:\n",
    "    pass\n",
    "else:\n",
    "    print(\"Invalid User, please check your username, first\")"
   ]
  },
  {
   "cell_type": "code",
   "execution_count": null,
   "metadata": {},
   "outputs": [],
   "source": [
    "data = api.get_modelmonitor_id(MONITOR_NAME)\n",
    "if data.data:\n",
    "    MONITOR_ID = data.data.get(MONITOR_NAME)\n",
    "    if MONITOR_ID:\n",
    "        raise ValueError(f\"{MONITOR_NAME} already existing please use a different name\")"
   ]
  },
  {
   "cell_type": "code",
   "execution_count": null,
   "metadata": {},
   "outputs": [],
   "source": [
    "ps_config = {\"MONITOR_NAME\":MONITOR_NAME, \"PRECOMPUTED_DATA_SOURCE\": PRECOMPUTED_DATA_SOURCE, \n",
    "            \"DKUBEUSERNAME\":DKUBEUSERNAME, \"TOKEN\":TOKEN, \"DKUBE_URL\":DKUBE_URL, \n",
    "            \"ACCESS_KEY\":ACCESS_KEY, \"SECRET_KEY\":SECRET_KEY, \"BUCKET\":BUCKET,\n",
    "            \"DBHOSTNAME\":DBHOSTNAME, \"DATABASENAME\":DATABASENAME,\n",
    "            \"DBUSERNAME\":DBUSERNAME, \"DBPASSWORD\":DBPASSWORD, \"DB_PROVIDER\":DB_PROVIDER,\n",
    "            \"PRESCORE_DATASET\":PRESCORE_DATASET, \"RUN_FREQUENCY\":RUN_FREQUENCY,\n",
    "            }\n",
    "%store ps_config"
   ]
  },
  {
   "cell_type": "code",
   "execution_count": null,
   "metadata": {},
   "outputs": [],
   "source": [
    "def get_dataset_version(username, dataset_name, version):\n",
    "    dataset_versions = api.get_dataset_versions(username, dataset_name)\n",
    "    versions = []\n",
    "    for each_version in dataset_versions:\n",
    "        if each_version[\"version\"][\"name\"] == version:\n",
    "            uuid = each_version[\"version\"][\"uuid\"]\n",
    "            return f\"{version}:{uuid}\"\n",
    "        else:\n",
    "            versions.append(each_version[\"version\"][\"name\"])\n",
    "    return f\"dataset version {version} not found, available version are {versions}\""
   ]
  },
  {
   "cell_type": "markdown",
   "metadata": {},
   "source": [
    "# Adding  precomputed labelled data source"
   ]
  },
  {
   "cell_type": "code",
   "execution_count": null,
   "metadata": {},
   "outputs": [],
   "source": [
    "if PRECOMPUTED_DATA_SOURCE == 'local':\n",
    "    try:\n",
    "        dataset = DkubeDataset(DKUBEUSERNAME, name=PRESCORE_DATASET)\n",
    "        api.create_dataset(dataset)\n",
    "    except Exception as e:\n",
    "        if e.reason.lower()!=\"conflict\":\n",
    "            response = e.body\n",
    "            print(f\"Failed[{response.code}]: {response.message}\")\n",
    "        \n",
    "elif PRECOMPUTED_DATA_SOURCE == 'sql':\n",
    "    try:\n",
    "        dataset = DkubeDataset(DKUBEUSERNAME, name=PRESCORE_DATASET,remote=True)\n",
    "        dataset.update_dataset_source('sql')\n",
    "        dataset.update_sql_details(\n",
    "            host=DBHOSTNAME.split(\":\")[0],\n",
    "            port=int(DBHOSTNAME.split(\":\")[1]),\n",
    "            username=DBUSERNAME,\n",
    "            password=DBPASSWORD,\n",
    "            database=DATABASENAME,\n",
    "            provider=DB_PROVIDER)\n",
    "        api.create_dataset(dataset)\n",
    "     \n",
    "    except Exception as e:\n",
    "        if e.reason:\n",
    "            if e.reason.lower() != \"conflict\":\n",
    "                response = e.body\n",
    "                print(f\"Failed[{response.code}]: {response.message}\")\n",
    "        else:\n",
    "            raise e\n",
    "elif PRECOMPUTED_DATA_SOURCE == 'aws-s3':\n",
    "    try:\n",
    "        dataset = DkubeDataset(DKUBEUSERNAME, name=PRESCORE_DATASET,remote=True)\n",
    "        dataset.update_dataset_source('aws_s3')\n",
    "        dataset.update_awss3_details(\n",
    "            bucket=BUCKET,\n",
    "            prefix=\"\",key=os.getenv(\"AWS_ACCESS_KEY_ID\",ACCESS_KEY),\n",
    "            secret=os.getenv(\"AWS_SECRET_ACCESS_KEY\",SECRET_KEY))\n",
    "        api.create_dataset(dataset)\n",
    "        \n",
    "    except Exception as e:\n",
    "        if e.reason:\n",
    "            if e.reason.lower() != \"conflict\":\n",
    "                response = e.body\n",
    "                print(f\"Failed[{response.code}]: {response.message}\")\n",
    "        else:\n",
    "            raise e"
   ]
  },
  {
   "cell_type": "markdown",
   "metadata": {},
   "source": [
    "# Creating Model Monitor"
   ]
  },
  {
   "cell_type": "code",
   "execution_count": null,
   "metadata": {},
   "outputs": [],
   "source": [
    "import requests, operator\n",
    "from dkube.sdk.rsrcs import DkubeModelmonitor\n",
    "from dkube.sdk.rsrcs.modelmonitor import DatasetClass,ModelType,DriftAlgo, DataType\n",
    "from dkube.sdk.rsrcs.modelmonitor import DatasetFormat,DkubeModelmonitorAlert, TimeZone\n",
    "from dkube.sdk.rsrcs.modelmonitor import SourceTypePerformance"
   ]
  },
  {
   "cell_type": "markdown",
   "metadata": {},
   "source": [
    "### Importing deployment"
   ]
  },
  {
   "cell_type": "code",
   "execution_count": null,
   "metadata": {},
   "outputs": [],
   "source": [
    "try:\n",
    "    api.import_deployment(name=MONITOR_NAME)\n",
    "except BaseException as e:\n",
    "    if e.reason:\n",
    "        if e.reason.lower() != \"conflict\":\n",
    "            response = e.body\n",
    "            print(f\"Failed[{response.code}]: {response.message}\")\n",
    "    else:\n",
    "        raise e\n",
    "DEPLOYMENT_ID = api.get_deployment_id(name=MONITOR_NAME)"
   ]
  },
  {
   "cell_type": "code",
   "execution_count": null,
   "metadata": {},
   "outputs": [],
   "source": [
    "with open('thresholds.json') as f:\n",
    "    thresholds = json.load(f)"
   ]
  },
  {
   "cell_type": "code",
   "execution_count": null,
   "metadata": {},
   "outputs": [],
   "source": [
    "mm=DkubeModelmonitor(deployemnt_id = DEPLOYMENT_ID)"
   ]
  },
  {
   "cell_type": "code",
   "execution_count": null,
   "metadata": {},
   "outputs": [],
   "source": [
    "mm.update_modelmonitor_basics(model_type=ModelType.Classification.value, \n",
    "                               input_data_type=DataType.Tabular.value,\n",
    "                               data_timezone=TimeZone.UTC.value)\n",
    "\n",
    "mm.add_thresholds(thresholds=thresholds)"
   ]
  },
  {
   "cell_type": "code",
   "execution_count": null,
   "metadata": {},
   "outputs": [],
   "source": [
    "labelled_data = f\"{DKUBEUSERNAME}:{PRESCORE_DATASET}\"\n",
    "labelled_data_version = get_dataset_version(DKUBEUSERNAME,PRESCORE_DATASET, \"v1\")\n",
    "\n",
    "if PRECOMPUTED_DATA_SOURCE == 'sql':\n",
    "    mm.add_datasources(data_class=DatasetClass.Metrics.value,\n",
    "                       name=labelled_data,data_format=str(DatasetFormat.Tabular),\n",
    "                       sql_query=\"select * from insurance_precomputed\")\n",
    "\n",
    "if PRECOMPUTED_DATA_SOURCE == 'local':\n",
    "    mm.add_datasources(data_class=DatasetClass.Metrics.value,\n",
    "                       name=labelled_data,data_format=str(DatasetFormat.Tabular),\n",
    "                       version=labelled_data_version)\n",
    "\n",
    "if PRECOMPUTED_DATA_SOURCE == 'aws-s3':\n",
    "    mm.add_datasources(data_class=DatasetClass.Metrics.value,\n",
    "                       name=labelled_data, s3_subpath=MONITOR_NAME + \"/pre_computed_scores\",\n",
    "                       data_format=str(DatasetFormat.Tabular))"
   ]
  },
  {
   "cell_type": "code",
   "execution_count": null,
   "metadata": {},
   "outputs": [],
   "source": [
    "mm.update_performance_monitoring_details(enabled=True,\n",
    "                                         source_type=SourceTypePerformance.Metrics.value,\n",
    "                                         frequency=RUN_FREQUENCY)"
   ]
  },
  {
   "cell_type": "code",
   "execution_count": null,
   "metadata": {},
   "outputs": [],
   "source": [
    "api.modelmonitor_create(mm,wait_for_completion=True)"
   ]
  },
  {
   "cell_type": "markdown",
   "metadata": {},
   "source": [
    "## Alerts"
   ]
  },
  {
   "cell_type": "code",
   "execution_count": null,
   "metadata": {},
   "outputs": [],
   "source": [
    "alert = DkubeModelmonitorAlert(name='perf_alert', alert_class = 'performance_decay')\n",
    "alert.add_alert_condition(metric='accuracy',threshold=0.9, op=operator.lt)\n",
    "api.modelmonitor_add_alert(DEPLOYMENT_ID,alert)"
   ]
  },
  {
   "cell_type": "code",
   "execution_count": null,
   "metadata": {},
   "outputs": [],
   "source": [
    "api.modelmonitor_start(DEPLOYMENT_ID)"
   ]
  },
  {
   "cell_type": "markdown",
   "metadata": {},
   "source": [
    "#### Cleanup"
   ]
  },
  {
   "cell_type": "code",
   "execution_count": null,
   "metadata": {},
   "outputs": [],
   "source": [
    "## Set CLEANUP = True, after your experiment is complete.\n",
    "CLEANUP = False\n",
    "if CLEANUP:\n",
    "    api.delete_dataset(DKUBEUSERNAME,PRESCORE_DATASET,force=True)\n",
    "    from time import sleep\n",
    "    RETRIES = 4\n",
    "    while RETRIES:\n",
    "        mm = api.modelmonitor_get(DEPLOYMENT_ID)\n",
    "        if mm[\"status\"] and mm[\"status\"][\"state\"].lower() != \"active\":\n",
    "            break\n",
    "        elif mm[\"status\"] and mm[\"status\"][\"state\"].lower() == \"active\":\n",
    "            api.modelmonitor_stop(DEPLOYMENT_ID)\n",
    "        RETRIES -= 1\n",
    "        sleep(5)\n",
    "    else:\n",
    "        raise TimeoutError(\"modelmonitor failed to stopped\")\n",
    "    api.modelmonitor_delete(DEPLOYMENT_ID)\n",
    "    %store -d ps_config"
   ]
  },
  {
   "cell_type": "code",
   "execution_count": null,
   "metadata": {},
   "outputs": [],
   "source": []
  }
 ],
 "metadata": {
  "kernelspec": {
   "display_name": "Python 3.9.6 64-bit",
   "language": "python",
   "name": "python3"
  },
  "language_info": {
   "codemirror_mode": {
    "name": "ipython",
    "version": 3
   },
   "file_extension": ".py",
   "mimetype": "text/x-python",
   "name": "python",
   "nbconvert_exporter": "python",
   "pygments_lexer": "ipython3",
   "version": "3.9.6"
  },
  "vscode": {
   "interpreter": {
    "hash": "31f2aee4e71d21fbe5cf8b01ff0e069b9275f58929596ceb00d14d90e3e16cd6"
   }
  }
 },
 "nbformat": 4,
 "nbformat_minor": 4
}
