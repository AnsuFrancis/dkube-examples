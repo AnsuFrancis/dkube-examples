{
 "cells": [
  {
   "cell_type": "code",
   "execution_count": null,
   "metadata": {},
   "outputs": [],
   "source": [
    "import os\n",
    "import time\n",
    "import random\n",
    "import string\n",
    "from dkube.sdk import mlflow as dkubemlf\n",
    "\n",
    "from sklearn.preprocessing import OneHotEncoder\n",
    "from sklearn.model_selection import train_test_split\n",
    "from sklearn.metrics import confusion_matrix, ConfusionMatrixDisplay\n",
    "from sklearn.metrics import classification_report\n",
    "import tensorflow as tf\n",
    "import mlflow\n",
    "import matplotlib.pyplot as plt\n",
    "\n",
    "import requests\n",
    "requests.packages.urllib3.disable_warnings()\n",
    "\n",
    "import warnings\n",
    "warnings.filterwarnings(\"ignore\")\n",
    "\n",
    "import sys\n",
    "utildir = os.path.abspath('.')\n",
    "if utildir not in sys.path:\n",
    "    sys.path.insert(0, utildir)\n",
    "import util"
   ]
  },
  {
   "cell_type": "markdown",
   "metadata": {},
   "source": [
    "### MACROS"
   ]
  },
  {
   "cell_type": "code",
   "execution_count": null,
   "metadata": {},
   "outputs": [],
   "source": [
    "# Define where the input data dir and model output dir are\n",
    "INPUT_DATA_DIR = \"/mnt/data\"\n",
    "OUTPUT_MODEL_DIR = \"/mnt/model\"\n",
    "NUM_EPOCHS = os.getenv(\"EPOCHS\", 6)\n",
    "MLFLOW_EXPERIMENT_NAME = os.getenv(\"DKUBE_PROJECT_NAME\", \"default\")\n",
    "DKUBE_INPUT_CODE = \"chest-xray\"\n",
    "DKUBE_INPUT_DATASET = \"chest-xray\"\n",
    "DKUBE_OUTPUT_MODEL = \"chest-xray\""
   ]
  },
  {
   "cell_type": "markdown",
   "metadata": {},
   "source": [
    "#### MLFLOW TRACKING INITIALIZATION"
   ]
  },
  {
   "cell_type": "code",
   "execution_count": null,
   "metadata": {},
   "outputs": [],
   "source": [
    "import warnings\n",
    "warnings.filterwarnings('ignore')\n",
    "exp = mlflow.get_experiment_by_name(MLFLOW_EXPERIMENT_NAME)\n",
    "if not exp:\n",
    "    print(\"Creating experiment...\")\n",
    "    mlflow.create_experiment(MLFLOW_EXPERIMENT_NAME)\n",
    "mlflow.set_experiment(experiment_name=MLFLOW_EXPERIMENT_NAME)\n",
    "mlflow.tensorflow.autolog(silent=True)"
   ]
  },
  {
   "cell_type": "code",
   "execution_count": null,
   "metadata": {},
   "outputs": [],
   "source": [
    "train_x, train_y = util.read_classification_data(INPUT_DATA_DIR)\n",
    "train_y_classes, train_y = train_y\n",
    "resized_train_x = util.resize_images(train_x, (200,200))\n",
    "resized_train_x = resized_train_x.reshape(resized_train_x.shape[0], 200, 200, 1)\n",
    "\n",
    "encoder = OneHotEncoder(sparse=False)\n",
    "onehot = encoder.fit_transform(train_y.reshape(-1, 1))\n",
    "\n",
    "train_x, test_x, train_y, test_y = train_test_split(resized_train_x, onehot, test_size=0.2)\n",
    "\n",
    "model = tf.keras.models.Sequential([\n",
    "  tf.keras.layers.InputLayer(input_shape=(200,200,1)),\n",
    "  tf.keras.layers.Conv2D(2, 4, strides=2, padding='same', activation=tf.nn.relu),\n",
    "  tf.keras.layers.Dense(128, activation='relu'),\n",
    "  tf.keras.layers.Flatten(),\n",
    "  tf.keras.layers.Dense(2)\n",
    "])\n",
    "model.compile(optimizer='rmsprop',\n",
    "              loss='binary_crossentropy',\n",
    "              metrics=['accuracy'])\n"
   ]
  },
  {
   "cell_type": "markdown",
   "metadata": {},
   "source": [
    "#### ML TRAINING"
   ]
  },
  {
   "cell_type": "code",
   "execution_count": null,
   "metadata": {},
   "outputs": [],
   "source": [
    "runid = dkubemlf.create_run(code=DKUBE_INPUT_CODE, dataset=DKUBE_INPUT_DATASET,output=DKUBE_OUTPUT_MODEL)"
   ]
  },
  {
   "cell_type": "code",
   "execution_count": null,
   "metadata": {},
   "outputs": [],
   "source": [
    "with mlflow.start_run(run_id=runid) as run:\n",
    "    model.fit(x=resized_train_x, y=onehot,epochs=NUM_EPOCHS, verbose=True)\n",
    "    if os.getenv(\"DKUBE_JOB_CLASS\") != \"notebook\" :\n",
    "        model.save(f\"{OUTPUT_MODEL_DIR}/1\")\n",
    "\n",
    "    mlflow.log_artifacts(OUTPUT_MODEL_DIR, artifact_path=\"saved_model\")\n",
    "\n",
    "    pred = model.predict(test_x.astype('float32'))\n",
    "    predicted_class = train_y_classes[pred.argmax(axis=1)]\n",
    "    test_labels = train_y_classes[test_y.argmax(axis=1)]\n",
    "    cm = confusion_matrix(test_labels, predicted_class)\n",
    "\n",
    "    disp = ConfusionMatrixDisplay(confusion_matrix=cm)\n",
    "    disp.plot()\n",
    "    time.sleep(1)\n",
    "    plt.savefig(\"confusion-matrix.png\")\n",
    "    mlflow.log_artifact(\"confusion-matrix.png\")\n",
    "\n",
    "    cr = classification_report(test_labels, predicted_class, output_dict=True)\n",
    "    print(cr)\n",
    "\n",
    "    recall_0 = cr['NORMAL']['recall']\n",
    "    f1_score_0 = cr['NORMAL']['f1-score']\n",
    "    recall_1 = cr['PNEUMONIA']['recall']\n",
    "    f1_score_1 = cr['PNEUMONIA']['f1-score']\n",
    "\n",
    "    tp = cm[0][0]\n",
    "    tn = cm[1][1]\n",
    "    fp = cm[0][1]\n",
    "    fn = cm[1][0]\n",
    "\n",
    "    mlflow.log_metric(\"true_positive\", tp)\n",
    "    mlflow.log_metric(\"true_negative\", tn)\n",
    "    mlflow.log_metric(\"false_positive\", fp)\n",
    "    mlflow.log_metric(\"false_negative\", fn)\n",
    "    mlflow.log_metric(\"recall_NORMAL\", recall_0)\n",
    "    mlflow.log_metric(\"f1_score_NORMAL\", f1_score_0)\n",
    "    mlflow.log_metric(\"recall_PNEUMONIA\", recall_1)\n",
    "    mlflow.log_metric(\"f1_score_PNEUMONIA\", f1_score_1)\n",
    "    \n",
    "print(\"Training Complete !\")"
   ]
  }
 ],
 "metadata": {
  "kernelspec": {
   "display_name": "Python 3",
   "language": "python",
   "name": "python3"
  },
  "language_info": {
   "codemirror_mode": {
    "name": "ipython",
    "version": 3
   },
   "file_extension": ".py",
   "mimetype": "text/x-python",
   "name": "python",
   "nbconvert_exporter": "python",
   "pygments_lexer": "ipython3",
   "version": "3.8.10"
  }
 },
 "nbformat": 4,
 "nbformat_minor": 4
}
