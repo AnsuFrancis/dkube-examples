{
 "cells": [
  {
   "cell_type": "markdown",
   "metadata": {},
   "source": [
    "#### Defined by User"
   ]
  },
  {
   "cell_type": "code",
   "execution_count": 1,
   "metadata": {},
   "outputs": [],
   "source": [
    "import os\n",
    "from urllib.parse import urlparse\n",
    "\n",
    "######## Dkube information of serving cluster ########\n",
    "\n",
    "DKUBE_USERNAME = os.getenv(\"DKUBE_USER_LOGIN_NAME\",\"\")\n",
    "DKUBE_TOKEN = os.getenv(\"DKUBE_USER_ACCESS_TOKEN\",\"\")\n",
    "\n"
   ]
  },
  {
   "cell_type": "markdown",
   "metadata": {},
   "source": [
    "#### Dkube Resources"
   ]
  },
  {
   "cell_type": "code",
   "execution_count": 2,
   "metadata": {},
   "outputs": [],
   "source": [
    "import time,json\n",
    "from dkube.sdk import *"
   ]
  },
  {
   "cell_type": "code",
   "execution_count": 3,
   "metadata": {},
   "outputs": [],
   "source": [
    "serving_api = DkubeApi(token=DKUBE_TOKEN)\n",
    "if DKUBE_USERNAME == serving_api.validate_token()['username']:\n",
    "    pass\n",
    "else:\n",
    "    print(\"Invalid User, please check your username, first\")"
   ]
  },
  {
   "cell_type": "code",
   "execution_count": 4,
   "metadata": {},
   "outputs": [
    {
     "name": "stdout",
     "output_type": "stream",
     "text": [
      "Minio EndPoint: http://<dkube-ip>:3221\n",
      "Minio Bucket:  cloudevents\n",
      "Minio Secret Key:  llrfj6ptxgo\n",
      "Minio Access key:  cloudevents\n"
     ]
    }
   ],
   "source": [
    "response =  serving_api.get_cloudevents_logstore_creds()\n",
    "\n",
    "print(\"Minio EndPoint: http://<dkube-ip>:32221\")\n",
    "print(\"Minio Bucket: \", response[\"bucket\"])\n",
    "print(\"Minio Secret Key: \", response[\"access_key\"])\n",
    "print(\"Minio Access key: \", response[\"access_key_id\"])"
   ]
  },
  {
   "cell_type": "code",
   "execution_count": null,
   "metadata": {},
   "outputs": [],
   "source": []
  }
 ],
 "metadata": {
  "interpreter": {
   "hash": "916dbcbb3f70747c44a77c7bcd40155683ae19c65e1c03b4aa3499c5328201f1"
  },
  "kernelspec": {
   "display_name": "Python 3",
   "language": "python",
   "name": "python3"
  },
  "language_info": {
   "codemirror_mode": {
    "name": "ipython",
    "version": 3
   },
   "file_extension": ".py",
   "mimetype": "text/x-python",
   "name": "python",
   "nbconvert_exporter": "python",
   "pygments_lexer": "ipython3",
   "version": "3.7.5"
  }
 },
 "nbformat": 4,
 "nbformat_minor": 4
}
