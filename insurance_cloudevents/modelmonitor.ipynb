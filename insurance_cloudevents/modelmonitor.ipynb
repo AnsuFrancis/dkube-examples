{
 "cells": [
  {
   "cell_type": "code",
   "execution_count": null,
   "metadata": {},
   "outputs": [],
   "source": [
    "%store -r\n",
    "import time\n",
    "import os,json, random, string\n",
    "import requests, operator\n",
    "from dkube.sdk import *\n",
    "from dkube.sdk.api import DkubeApi\n",
    "from dkube.sdk.rsrcs import DkubeModelmonitor\n",
    "from dkube.sdk.rsrcs.operator import DkubeCluster\n",
    "from dkube.sdk.rsrcs.modelmonitor import DatasetClass,ModelType,DriftAlgo, DataType\n",
    "from dkube.sdk.rsrcs.modelmonitor import DatasetFormat,DkubeModelmonitorAlert, TimeZone"
   ]
  },
  {
   "cell_type": "code",
   "execution_count": null,
   "metadata": {},
   "outputs": [],
   "source": [
    "MONITOR_NAME = cld_config['MONITOR_NAME']\n",
    "INPUT_TRAIN_TYPE = cld_config['INPUT_TRAIN_TYPE']\n",
    "SERVING_DKUBE_USERNAME = cld_config['SERVING_DKUBE_USERNAME']\n",
    "SERVING_DKUBE_TOKEN = cld_config['SERVING_DKUBE_TOKEN']\n",
    "SERVING_DKUBE_URL = cld_config['SERVING_DKUBE_URL']\n",
    "DKUBE_BASE_DATASET = cld_config['DKUBE_BASE_DATASET']\n",
    "MODEL_NAME = cld_config['MODEL_NAME']\n",
    "RUN_FREQUENCY = cld_config['RUN_FREQUENCY']\n",
    "LIVE_DATASET = cld_config['LIVE_DATASET']\n",
    "\n",
    "MONITORING_DKUBE_USERNAME = cld_config[\"MONITORING_DKUBE_USERNAME\"]\n",
    "MONITORING_DKUBE_TOKEN = cld_config[\"MONITORING_DKUBE_TOKEN\"]\n",
    "MONITORING_DKUBE_URL = cld_config[\"MONITORING_DKUBE_URL\"]\n",
    "SERVING_DKUBE_CLUSTER_NAME = cld_config[\"SERVING_DKUBE_CLUSTER_NAME\"]"
   ]
  },
  {
   "cell_type": "code",
   "execution_count": null,
   "metadata": {},
   "outputs": [],
   "source": [
    "serving_api = DkubeApi(URL=SERVING_DKUBE_URL,token=SERVING_DKUBE_TOKEN)"
   ]
  },
  {
   "cell_type": "markdown",
   "metadata": {},
   "source": [
    "### Importing deployment"
   ]
  },
  {
   "cell_type": "code",
   "execution_count": null,
   "metadata": {},
   "outputs": [],
   "source": [
    "def wait_for_deployment_running(deployment_id):\n",
    "    status = None\n",
    "    inference_url, inference = None, None\n",
    "    while True:\n",
    "        data = serving_api.get_deployment(deployment_id)\n",
    "        status = data.data.inferenceservice_deployment.parameters.generated.status.state\n",
    "        inference = data.data.inferenceservice_deployment.parameters.inference\n",
    "        inference_url = data.data.inferenceservice_deployment.parameters.generated.details.serving.servingurl\n",
    "        if status == \"RUNNING\":\n",
    "            break\n",
    "        print(\"waiting for deployment to be running\")\n",
    "        time.sleep(serving_api.wait_interval)\n",
    "    return inference, inference_url\n",
    "\n",
    "def get_dataset_version(username, dataset_name, version):\n",
    "    dataset_versions = monitoring_api.get_dataset_versions(username, dataset_name)\n",
    "    versions = []\n",
    "    for each_version in dataset_versions:\n",
    "        if each_version[\"version\"][\"name\"] == version:\n",
    "            uuid = each_version[\"version\"][\"uuid\"]\n",
    "            return f\"{version}:{uuid}\"\n",
    "        else:\n",
    "            versions.append(each_version[\"version\"][\"name\"])\n",
    "    return f\"dataset version {version} not found, available version are {versions}\""
   ]
  },
  {
   "cell_type": "code",
   "execution_count": null,
   "metadata": {},
   "outputs": [],
   "source": [
    "while True:\n",
    "    SERVING_DEPLOYMENT_ID = serving_api.get_deployment_id(name=MONITOR_NAME)\n",
    "    if SERVING_DEPLOYMENT_ID:\n",
    "        break\n",
    "    print(\"waiting for deployment to come up\")\n",
    "    time.sleep(serving_api.wait_interval)\n",
    "inference, INFERENCE_URL = wait_for_deployment_running(SERVING_DEPLOYMENT_ID)\n",
    "if not inference.enable_logs:\n",
    "    print(\"Enabling logs\")\n",
    "    serving = DkubeServing(user=SERVING_DKUBE_USERNAME, name=MONITOR_NAME)\n",
    "    serving.update_enable_logs(enable_logs=True)\n",
    "    serving_api.update_inference(serving)\n",
    "print(\"Inference is up at URL: \", INFERENCE_URL)\n",
    "cld_config['INFERENCE_URL'] = INFERENCE_URL\n",
    "cld_config['SERVING_DEPLOYMENT_ID'] = SERVING_DEPLOYMENT_ID\n",
    "%store cld_config"
   ]
  },
  {
   "cell_type": "markdown",
   "metadata": {},
   "source": [
    "## Checking for seperate monitoring cluster and adding cluster and deployment to the monitoring cluster."
   ]
  },
  {
   "cell_type": "code",
   "execution_count": null,
   "metadata": {},
   "outputs": [],
   "source": [
    "if MONITORING_DKUBE_URL:\n",
    "    monitoring_api = DkubeApi(URL=MONITORING_DKUBE_URL,token=MONITORING_DKUBE_TOKEN)\n",
    "    DKUBEUSERNAME = MONITORING_DKUBE_USERNAME\n",
    "    ## Checking if the cluster exists\n",
    "    cluster_exists = False\n",
    "    if SERVING_DKUBE_CLUSTER_NAME:\n",
    "        for each_cluster in monitoring_api.get_clusters()[\"data\"]:\n",
    "            if each_cluster[\"name\"] == SERVING_DKUBE_CLUSTER_NAME:\n",
    "                cluster_exists = True\n",
    "                print(f\"Cluster {SERVING_DKUBE_CLUSTER_NAME} already exists\")\n",
    "                break\n",
    "        if not cluster_exists:\n",
    "            msg = f'''\n",
    "            Cluster {SERVING_DKUBE_CLUSTER_NAME} not found on monitoring cluster,\n",
    "            Kindly verify the cluster name.\n",
    "            '''\n",
    "            raise Exception(msg)\n",
    "    else:\n",
    "        ## Generating serving cluster name if not provide\n",
    "        ## A cluster with the generated name would be added\n",
    "        res = ''.join(random.choices(string.ascii_lowercase + string.digits, k=4))\n",
    "        SERVING_DKUBE_CLUSTER_NAME = f\"{SERVING_DKUBE_USERNAME}-{res}\"\n",
    "        print(f\"Attempt to create cluster with name {SERVING_DKUBE_CLUSTER_NAME} on monitoring setup will be taken\")\n",
    "        ## checking if the user have operator permissions\n",
    "        op_permission = False\n",
    "        if \"operator\" in monitoring_api.validate_token()[\"role\"]:\n",
    "            op_permission = True\n",
    "        if op_permission:\n",
    "        ### adding cluster\n",
    "            pcluster = DkubeCluster(name=SERVING_DKUBE_CLUSTER_NAME)\n",
    "            pcluster.update_kind(\"dkube-remote\")\n",
    "            pcluster.update_class(\"monitoring\")\n",
    "            pcluster.update_authtype(\"jwt\")\n",
    "            pcluster.update_url(url=SERVING_DKUBE_URL)\n",
    "            pcluster.update_jwt_details(jwt_token=SERVING_DKUBE_TOKEN)\n",
    "            try:\n",
    "                monitoring_api.configure_clusters(pcluster.cluster)\n",
    "                print(\"Cluster added\")\n",
    "            except Exception as e:\n",
    "                print(e)\n",
    "        else:\n",
    "            msg = f'''\n",
    "            User {MONITORING_DKUBE_USERNAME} doesn't have operator permissions,\n",
    "            Ask the operator to add cluster first.\n",
    "            '''\n",
    "            raise Exception(msg)\n",
    "    ## Importing deployment\n",
    "    try:\n",
    "        DEPLOYMENT_ID = monitoring_api.import_deployment(name=MONITOR_NAME,\n",
    "                                                         cluster=SERVING_DKUBE_CLUSTER_NAME,\n",
    "                                                         namespace=SERVING_DKUBE_USERNAME)\n",
    "        print(\"Deployment Imported\")\n",
    "    except Exception as e:\n",
    "        print(e)\n",
    "        \n",
    "else:\n",
    "    monitoring_api = serving_api\n",
    "    DKUBEUSERNAME = SERVING_DKUBE_USERNAME\n",
    "    DEPLOYMENT_ID = SERVING_DEPLOYMENT_ID"
   ]
  },
  {
   "cell_type": "code",
   "execution_count": null,
   "metadata": {},
   "outputs": [],
   "source": [
    "text_file = open(\"transform-data.py\", \"r\")\n",
    "#read whole file to a string\n",
    "script = text_file.read()\n",
    "#close file\n",
    "text_file.close()\n",
    "\n",
    "with open('thresholds.json') as f:\n",
    "    thresholds = json.load(f)"
   ]
  },
  {
   "cell_type": "code",
   "execution_count": null,
   "metadata": {},
   "outputs": [],
   "source": [
    "training_data = f'{DKUBEUSERNAME}:{DKUBE_BASE_DATASET}'\n",
    "train_data_version = get_dataset_version(DKUBEUSERNAME,\n",
    "                                            DKUBE_BASE_DATASET, \"v1\")\n",
    "labelled_data = f\"{DKUBEUSERNAME}:{LIVE_DATASET}\"\n",
    "predict_data_format = \"cloudeventlogs\""
   ]
  },
  {
   "cell_type": "markdown",
   "metadata": {},
   "source": [
    "### Model Monitor"
   ]
  },
  {
   "cell_type": "code",
   "execution_count": null,
   "metadata": {},
   "outputs": [],
   "source": [
    "mm=DkubeModelmonitor(deployemnt_id = DEPLOYMENT_ID)"
   ]
  },
  {
   "cell_type": "code",
   "execution_count": null,
   "metadata": {},
   "outputs": [],
   "source": [
    "mm.update_modelmonitor_basics(model_type=ModelType.Regression.value, \n",
    "                               input_data_type=DataType.Tabular.value,\n",
    "                               data_timezone=TimeZone.UTC.value)"
   ]
  },
  {
   "cell_type": "code",
   "execution_count": null,
   "metadata": {},
   "outputs": [],
   "source": [
    "mm.add_thresholds(thresholds=thresholds)"
   ]
  },
  {
   "cell_type": "markdown",
   "metadata": {},
   "source": [
    "## Health Monitoring"
   ]
  },
  {
   "cell_type": "code",
   "execution_count": null,
   "metadata": {},
   "outputs": [],
   "source": [
    "mm.update_deployment_monitoring_details(enabled=True, frequency=1)"
   ]
  },
  {
   "cell_type": "markdown",
   "metadata": {},
   "source": [
    "## Add Drift monitoring details"
   ]
  },
  {
   "cell_type": "code",
   "execution_count": null,
   "metadata": {},
   "outputs": [],
   "source": [
    "mm.update_drift_monitoring_details(enabled=True,frequency=5,algorithm='auto')"
   ]
  },
  {
   "cell_type": "markdown",
   "metadata": {},
   "source": [
    "### Add Train, Prediction, and Labelled Datasets"
   ]
  },
  {
   "cell_type": "code",
   "execution_count": null,
   "metadata": {},
   "outputs": [],
   "source": [
    "mm.add_datasources(data_class=str(DatasetClass.Train),name=training_data,\n",
    "                   data_format=\"tabular\",\n",
    "                   version=train_data_version,transformer_script = script)\n",
    "if MONITORING_DKUBE_URL:\n",
    "    mm.add_datasources(data_class=str(DatasetClass.Predict), name=labelled_data,\n",
    "                       data_format=predict_data_format, s3_subpath=SERVING_DEPLOYMENT_ID)\n",
    "else:\n",
    "    mm.add_datasources(data_class=str(DatasetClass.Predict),\n",
    "                       data_format=predict_data_format,)\n",
    "\n",
    "mm.add_datasources(data_class=str(DatasetClass.Labelled),name=labelled_data,\n",
    "                   data_format=\"tabular\", s3_subpath=SERVING_DEPLOYMENT_ID + \"/livedata\",\n",
    "                   predict_col=\"charges\",groundtruth_col=\"GT_target\",timestamp_col=\"timestamp\")"
   ]
  },
  {
   "cell_type": "markdown",
   "metadata": {},
   "source": [
    "### Performance Monitoring"
   ]
  },
  {
   "cell_type": "code",
   "execution_count": null,
   "metadata": {},
   "outputs": [],
   "source": [
    "mm.update_performance_monitoring_details(enabled=True,source_type=\"labelled_data\",frequency=5)"
   ]
  },
  {
   "cell_type": "markdown",
   "metadata": {},
   "source": [
    "### Create Model monitor"
   ]
  },
  {
   "cell_type": "code",
   "execution_count": null,
   "metadata": {},
   "outputs": [],
   "source": [
    "monitoring_api.modelmonitor_create(mm,wait_for_completion=True)"
   ]
  },
  {
   "cell_type": "markdown",
   "metadata": {},
   "source": [
    "### Extracting id of the Model Monitor"
   ]
  },
  {
   "cell_type": "code",
   "execution_count": null,
   "metadata": {},
   "outputs": [],
   "source": [
    "# The function below can be used to fetch model monitor ID by name.\n",
    "# The monitor id will be same as deployment id.\n",
    "# id = monitoring_api.modelmonitor_get_id(MONITOR_NAME)\n",
    "id = DEPLOYMENT_ID\n",
    "print(id)"
   ]
  },
  {
   "cell_type": "markdown",
   "metadata": {},
   "source": [
    "### Schema update"
   ]
  },
  {
   "cell_type": "code",
   "execution_count": null,
   "metadata": {},
   "outputs": [],
   "source": [
    "monitoring_api.modelmonitor_update_schema(id,label='charges',schema_class='continuous',schema_type=\"prediction_output\",selected=False)\n",
    "monitoring_api.modelmonitor_update_schema(id,label='unique_id',schema_class='continuous',schema_type=\"row_id\",selected=False)\n",
    "monitoring_api.modelmonitor_update_schema(id,label='timestamp',schema_class='continuous',schema_type=\"timestamp\",selected=False)\n",
    "\n",
    "## age and bmi to continuous\n",
    "monitoring_api.modelmonitor_update_schema(id,label='age',schema_class='continuous',schema_type='input_feature',selected=True)\n",
    "monitoring_api.modelmonitor_update_schema(id,label='bmi',schema_class='continuous',schema_type='input_feature',selected=True)\n",
    "\n",
    "## select these features\n",
    "monitoring_api.modelmonitor_update_schema(id,label='sex',schema_type='input_feature',schema_class='categorical',selected=True)\n",
    "monitoring_api.modelmonitor_update_schema(id,label='children',schema_type='input_feature',schema_class='categorical',selected=True)\n",
    "monitoring_api.modelmonitor_update_schema(id,label='smoker',schema_type='input_feature',schema_class='categorical',selected=True)\n",
    "monitoring_api.modelmonitor_update_schema(id,label='region',schema_type='input_feature',schema_class='categorical',selected=True)"
   ]
  },
  {
   "cell_type": "markdown",
   "metadata": {},
   "source": [
    "### Add alerts"
   ]
  },
  {
   "cell_type": "markdown",
   "metadata": {},
   "source": [
    "#### Deployment Health Alert"
   ]
  },
  {
   "cell_type": "code",
   "execution_count": null,
   "metadata": {},
   "outputs": [],
   "source": [
    "alert = DkubeModelmonitorAlert(name='latency_alert', alert_class = 'deployment_health')\n",
    "alert.add_alert_condition(metric='latency_avg',threshold=300, op=operator.gt)\n",
    "monitoring_api.modelmonitor_add_alert(id,alert)"
   ]
  },
  {
   "cell_type": "markdown",
   "metadata": {},
   "source": [
    "#### Feature Alert"
   ]
  },
  {
   "cell_type": "code",
   "execution_count": null,
   "metadata": {},
   "outputs": [],
   "source": [
    "alert = DkubeModelmonitorAlert(name='age_alert', alert_class = 'feature_drift')\n",
    "alert.add_alert_condition(feature='age',threshold=0.1, op=operator.gt)\n",
    "monitoring_api.modelmonitor_add_alert(id,alert)"
   ]
  },
  {
   "cell_type": "markdown",
   "metadata": {},
   "source": [
    "#### Performance Alert"
   ]
  },
  {
   "cell_type": "code",
   "execution_count": null,
   "metadata": {},
   "outputs": [],
   "source": [
    "alert = DkubeModelmonitorAlert(name='mae_alert', alert_class = 'performance_decay')\n",
    "alert.add_alert_condition(metric='mae',threshold=2000, op=operator.gt)\n",
    "monitoring_api.modelmonitor_add_alert(id,alert)"
   ]
  },
  {
   "cell_type": "markdown",
   "metadata": {},
   "source": [
    "### Start the model monitor"
   ]
  },
  {
   "cell_type": "code",
   "execution_count": null,
   "metadata": {},
   "outputs": [],
   "source": [
    "monitoring_api.modelmonitor_start(id)"
   ]
  },
  {
   "cell_type": "markdown",
   "metadata": {},
   "source": [
    "### Retraining / Rebaselining Model Monitor"
   ]
  },
  {
   "cell_type": "markdown",
   "metadata": {},
   "source": [
    "### Cleanup"
   ]
  },
  {
   "cell_type": "code",
   "execution_count": null,
   "metadata": {},
   "outputs": [],
   "source": [
    "CLEANUP = False\n",
    "if CLEANUP:\n",
    "    from time import sleep\n",
    "    RETRIES = 4\n",
    "    while RETRIES:\n",
    "        mm = monitoring_api.modelmonitor_get(id)\n",
    "        if mm[\"status\"] and mm[\"status\"][\"state\"].lower() != \"active\":\n",
    "            break\n",
    "        elif mm[\"status\"] and mm[\"status\"][\"state\"].lower() == \"active\":\n",
    "            monitoring_api.modelmonitor_stop(id)\n",
    "        RETRIES -= 1\n",
    "        sleep(5)\n",
    "    else:\n",
    "        raise TimeoutError(\"modelmonitor failed to stopped\")\n",
    "    monitoring_api.modelmonitor_delete(id)"
   ]
  },
  {
   "cell_type": "code",
   "execution_count": null,
   "metadata": {},
   "outputs": [],
   "source": []
  }
 ],
 "metadata": {
  "kernelspec": {
   "display_name": "Python 3",
   "language": "python",
   "name": "python3"
  },
  "language_info": {
   "codemirror_mode": {
    "name": "ipython",
    "version": 3
   },
   "file_extension": ".py",
   "mimetype": "text/x-python",
   "name": "python",
   "nbconvert_exporter": "python",
   "pygments_lexer": "ipython3",
   "version": "3.7.5"
  },
  "vscode": {
   "interpreter": {
    "hash": "31f2aee4e71d21fbe5cf8b01ff0e069b9275f58929596ceb00d14d90e3e16cd6"
   }
  }
 },
 "nbformat": 4,
 "nbformat_minor": 4
}
