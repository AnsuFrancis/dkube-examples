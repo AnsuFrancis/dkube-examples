{
 "cells": [
  {
   "cell_type": "code",
   "execution_count": null,
   "metadata": {},
   "outputs": [],
   "source": [
    "%store -r\n",
    "import time\n",
    "import os,json\n",
    "import requests, operator\n",
    "from dkube.sdk import *\n",
    "from dkube.sdk.api import DkubeApi\n",
    "from dkube.sdk.rsrcs import DkubeModelmonitor\n",
    "from dkube.sdk.rsrcs.operator import DkubeCluster\n",
    "from dkube.sdk.rsrcs.modelmonitor import DatasetClass,ModelType,DriftAlgo\n",
    "from dkube.sdk.rsrcs.modelmonitor import DatasetFormat,DkubeModelmonitorAlert, TimeZone\n",
    "from dkube.sdk.rsrcs.modelmonitor import DataType, ChannelOrder, ImageDataSavedFileFormat"
   ]
  },
  {
   "cell_type": "code",
   "execution_count": null,
   "metadata": {},
   "outputs": [],
   "source": [
    "MONITOR_NAME = image_sgmkr_config['MONITOR_NAME']\n",
    "DKUBEUSERNAME = image_sgmkr_config['DKUBEUSERNAME']\n",
    "TOKEN = image_sgmkr_config['TOKEN']\n",
    "DKUBE_URL = image_sgmkr_config['DKUBE_URL']\n",
    "RUN_FREQUENCY = image_sgmkr_config['RUN_FREQUENCY']\n",
    "LIVE_DATASET = image_sgmkr_config['LIVE_DATASET']\n",
    "TRAINING_DATASET = image_sgmkr_config['TRAINING_DATASET']\n",
    "ACCESS_KEY = image_sgmkr_config['ACCESS_KEY']\n",
    "SECRET_KEY = image_sgmkr_config['SECRET_KEY']\n",
    "BUCKET = image_sgmkr_config['BUCKET']\n",
    "PREFIX = image_sgmkr_config['PREFIX']\n",
    "REGION_NAME = image_sgmkr_config['REGION_NAME']\n",
    "SAGEMAKER_DKUBE_CLUSTER_NAME = image_sgmkr_config['SAGEMAKER_DKUBE_CLUSTER_NAME']"
   ]
  },
  {
   "cell_type": "code",
   "execution_count": null,
   "metadata": {},
   "outputs": [],
   "source": [
    "def get_dataset_version(username, dataset_name, version):\n",
    "    dataset_versions = api.get_dataset_versions(username, dataset_name)\n",
    "    versions = []\n",
    "    for each_version in dataset_versions:\n",
    "        if each_version[\"version\"][\"name\"] == version:\n",
    "            uuid = each_version[\"version\"][\"uuid\"]\n",
    "            return f\"{version}:{uuid}\"\n",
    "        else:\n",
    "            versions.append(each_version[\"version\"][\"name\"])\n",
    "    return f\"dataset version {version} not found, available version are {versions}\""
   ]
  },
  {
   "cell_type": "code",
   "execution_count": null,
   "metadata": {},
   "outputs": [],
   "source": [
    "api = DkubeApi(URL=os.getenv('DKUBE_URL'),token=os.getenv(\"DKUBE_USER_ACCESS_TOKEN\"))"
   ]
  },
  {
   "cell_type": "code",
   "execution_count": null,
   "metadata": {},
   "outputs": [],
   "source": [
    "PREDICT_PREFIX = PREFIX +\"/datacapture/\"+MONITOR_NAME+\"/AllTraffic/\""
   ]
  },
  {
   "cell_type": "markdown",
   "metadata": {},
   "source": [
    "#### Configure Sagemaker Cluster in Dkube"
   ]
  },
  {
   "cell_type": "code",
   "execution_count": null,
   "metadata": {},
   "outputs": [],
   "source": [
    "pcluster = DkubeCluster(name=SAGEMAKER_DKUBE_CLUSTER_NAME)\n",
    "pcluster.update_kind(\"sagemaker\")\n",
    "pcluster.update_class(\"monitoring\")\n",
    "pcluster.update_authtype(\"access_keys\")\n",
    "pcluster.update_access_keys(ACCESS_KEY,SECRET_KEY)\n",
    "pcluster.cluster.access_keys.region = REGION_NAME"
   ]
  },
  {
   "cell_type": "code",
   "execution_count": null,
   "metadata": {},
   "outputs": [],
   "source": [
    "try:\n",
    "    api.configure_clusters(pcluster.cluster)\n",
    "except Exception as e:\n",
    "    print(e)"
   ]
  },
  {
   "cell_type": "markdown",
   "metadata": {},
   "source": [
    "## Import Deployemnt"
   ]
  },
  {
   "cell_type": "code",
   "execution_count": null,
   "metadata": {},
   "outputs": [],
   "source": [
    "DEPLOYMENT_ID = api.import_deployment(name=MONITOR_NAME,\n",
    "                                    cluster=SAGEMAKER_DKUBE_CLUSTER_NAME,\n",
    "                                    variant=\"AllTraffic\")"
   ]
  },
  {
   "cell_type": "markdown",
   "metadata": {},
   "source": [
    "## Initializing model monitor"
   ]
  },
  {
   "cell_type": "code",
   "execution_count": null,
   "metadata": {},
   "outputs": [],
   "source": [
    "mm=DkubeModelmonitor(deployemnt_id = DEPLOYMENT_ID)"
   ]
  },
  {
   "cell_type": "code",
   "execution_count": null,
   "metadata": {},
   "outputs": [],
   "source": [
    "schema = {\"features\": [{\n",
    "        \"class\": \"categorical\",\n",
    "        \"label\": \"prediction\",\n",
    "        \"type\": \"prediction_output\"\n",
    "      }]\n",
    "    }\n",
    "mm.modelmonitor.schema = schema"
   ]
  },
  {
   "cell_type": "code",
   "execution_count": null,
   "metadata": {},
   "outputs": [],
   "source": [
    "mm.update_modelmonitor_basics(model_type=ModelType.Classification.value, \n",
    "                               input_data_type=DataType.Image.value,\n",
    "                               data_timezone=TimeZone.UTC.value)"
   ]
  },
  {
   "cell_type": "code",
   "execution_count": null,
   "metadata": {},
   "outputs": [],
   "source": [
    "mm.update_image_data_shape(height=200, width=200, channel=1)"
   ]
  },
  {
   "cell_type": "code",
   "execution_count": null,
   "metadata": {},
   "outputs": [],
   "source": [
    "with open('thresholds.json') as f:\n",
    "    thresholds = json.load(f)\n",
    "mm.add_thresholds(thresholds=thresholds)"
   ]
  },
  {
   "cell_type": "code",
   "execution_count": null,
   "metadata": {},
   "outputs": [],
   "source": [
    "training_data = f'{DKUBEUSERNAME}:{TRAINING_DATASET}'\n",
    "train_data_version = get_dataset_version(DKUBEUSERNAME,\n",
    "                                            TRAINING_DATASET, \"v1\")\n",
    "prediction_data = f\"{DKUBEUSERNAME}:{LIVE_DATASET}\"\n",
    "labelled_data = f\"{DKUBEUSERNAME}:{LIVE_DATASET}\"\n",
    "predict_data_format = DatasetFormat.Sagemakerlogs.value"
   ]
  },
  {
   "cell_type": "markdown",
   "metadata": {},
   "source": [
    "## Adding train, predict, and labelled datasets"
   ]
  },
  {
   "cell_type": "code",
   "execution_count": null,
   "metadata": {},
   "outputs": [],
   "source": [
    "mm.add_datasources(data_class=DatasetClass.Train.value,name=training_data,\n",
    "                   version=train_data_version)\n",
    "\n",
    "mm.add_datasources(data_class=DatasetClass.Predict.value,name=prediction_data,\n",
    "                   s3_subpath=PREDICT_PREFIX, data_format=predict_data_format, date_suffix=\"yyyy/mm/dd/hh\")\n",
    "\n",
    "mm.add_datasources(data_class=DatasetClass.Labelled.value,name=labelled_data,\n",
    "                   data_format=DataType.Tabular.value, s3_subpath=MONITOR_NAME+'/groundtruth',\n",
    "                   predict_col=\"output\",groundtruth_col=\"label\",timestamp_col=\"timestamp\")"
   ]
  },
  {
   "cell_type": "markdown",
   "metadata": {},
   "source": [
    "## Health Monitoring"
   ]
  },
  {
   "cell_type": "code",
   "execution_count": null,
   "metadata": {},
   "outputs": [],
   "source": [
    "mm.update_deployment_monitoring_details(enabled=True, frequency=1)"
   ]
  },
  {
   "cell_type": "markdown",
   "metadata": {},
   "source": [
    "## Drift monitoring"
   ]
  },
  {
   "cell_type": "code",
   "execution_count": null,
   "metadata": {},
   "outputs": [],
   "source": [
    "mm.update_drift_monitoring_details(enabled=True,\n",
    "                                  frequency=RUN_FREQUENCY,\n",
    "                                  image_train_data_savedfile_format=\"images_in_labelled_folder\")"
   ]
  },
  {
   "cell_type": "markdown",
   "metadata": {},
   "source": [
    "## Performance Monitoring"
   ]
  },
  {
   "cell_type": "code",
   "execution_count": null,
   "metadata": {},
   "outputs": [],
   "source": [
    "mm.update_performance_monitoring_details(enabled=True,\n",
    "                                        source_type=\"labelled_data\",\n",
    "                                        frequency=RUN_FREQUENCY)"
   ]
  },
  {
   "cell_type": "markdown",
   "metadata": {},
   "source": [
    "## Creating model monitor"
   ]
  },
  {
   "cell_type": "code",
   "execution_count": null,
   "metadata": {},
   "outputs": [],
   "source": [
    "id = api.modelmonitor_create(mm,wait_for_completion=True)"
   ]
  },
  {
   "cell_type": "markdown",
   "metadata": {},
   "source": [
    "### Add alerts"
   ]
  },
  {
   "cell_type": "markdown",
   "metadata": {},
   "source": [
    "#### Deployment Health Alert"
   ]
  },
  {
   "cell_type": "code",
   "execution_count": null,
   "metadata": {},
   "outputs": [],
   "source": [
    "alert = DkubeModelmonitorAlert(name='latency_alert', alert_class = 'deployment_health')\n",
    "alert.add_alert_condition(metric='latency_avg',threshold=300, op=operator.gt)\n",
    "api.modelmonitor_add_alert(id,alert)"
   ]
  },
  {
   "cell_type": "markdown",
   "metadata": {},
   "source": [
    "#### Data Drift Alert"
   ]
  },
  {
   "cell_type": "code",
   "execution_count": null,
   "metadata": {},
   "outputs": [],
   "source": [
    "alert = DkubeModelmonitorAlert(name='image_drift_alert', alert_class = 'feature_drift')\n",
    "alert.add_alert_condition(feature=\"image\", threshold=0.42, op=operator.gt)\n",
    "api.modelmonitor_add_alert(id,alert)"
   ]
  },
  {
   "cell_type": "markdown",
   "metadata": {},
   "source": [
    "#### Performance Alert"
   ]
  },
  {
   "cell_type": "code",
   "execution_count": null,
   "metadata": {},
   "outputs": [],
   "source": [
    "alert = DkubeModelmonitorAlert(name='accuracy_alert', alert_class = 'performance_decay')\n",
    "alert.update_alert(metric='accuracy',threshold=0.9, op=operator.lt)\n",
    "api.modelmonitor_add_alert(id,alert)"
   ]
  },
  {
   "cell_type": "markdown",
   "metadata": {},
   "source": [
    "### Start the model monitor"
   ]
  },
  {
   "cell_type": "code",
   "execution_count": null,
   "metadata": {},
   "outputs": [],
   "source": [
    "api.modelmonitor_start(DEPLOYMENT_ID)"
   ]
  },
  {
   "cell_type": "markdown",
   "metadata": {},
   "source": [
    "### Cleanup"
   ]
  },
  {
   "cell_type": "code",
   "execution_count": null,
   "metadata": {},
   "outputs": [],
   "source": [
    "CLEANUP = False\n",
    "if CLEANUP:\n",
    "    from time import sleep\n",
    "    RETRIES = 4\n",
    "    while RETRIES:\n",
    "        mm = api.modelmonitor_get(DEPLOYMENT_ID)\n",
    "        if mm[\"status\"] and mm[\"status\"][\"state\"].lower() != \"active\":\n",
    "            break\n",
    "        elif mm[\"status\"] and mm[\"status\"][\"state\"].lower() == \"active\":\n",
    "            api.modelmonitor_stop(DEPLOYMENT_ID)\n",
    "        RETRIES -= 1\n",
    "        sleep(5)\n",
    "    else:\n",
    "        raise TimeoutError(\"modelmonitor failed to stopped\")\n",
    "    api.modelmonitor_delete(DEPLOYMENT_ID)"
   ]
  },
  {
   "cell_type": "code",
   "execution_count": null,
   "metadata": {},
   "outputs": [],
   "source": []
  }
 ],
 "metadata": {
  "kernelspec": {
   "display_name": "Python 3.9.6 64-bit",
   "language": "python",
   "name": "python3"
  },
  "language_info": {
   "codemirror_mode": {
    "name": "ipython",
    "version": 3
   },
   "file_extension": ".py",
   "mimetype": "text/x-python",
   "name": "python",
   "nbconvert_exporter": "python",
   "pygments_lexer": "ipython3"
  },
  "vscode": {
   "interpreter": {
    "hash": "31f2aee4e71d21fbe5cf8b01ff0e069b9275f58929596ceb00d14d90e3e16cd6"
   }
  }
 },
 "nbformat": 4,
 "nbformat_minor": 4
}
