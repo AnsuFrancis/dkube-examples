{
 "cells": [
  {
   "attachments": {},
   "cell_type": "markdown",
   "metadata": {},
   "source": [
    "#### Checking and upgrading the DKube SDK"
   ]
  },
  {
   "cell_type": "code",
   "execution_count": null,
   "metadata": {},
   "outputs": [],
   "source": [
    "import pkg_resources, sys\n",
    "try:\n",
    "    dkube_sdk_version = float(pkg_resources.get_distribution(\"dkube\").version)\n",
    "except:\n",
    "    dkube_sdk_version = 0 ## means the dkube sdk is not installed\n",
    "if dkube_sdk_version < 3.7:\n",
    "    !{sys.executable} -m pip install sudo pip install  git+https://github.com/oneconvergence/dkube.git@3.7 --user >/dev/null\n",
    "%reset -f"
   ]
  },
  {
   "cell_type": "code",
   "execution_count": null,
   "metadata": {},
   "outputs": [],
   "source": [
    "import os\n",
    "from time import gmtime, strftime"
   ]
  },
  {
   "cell_type": "markdown",
   "metadata": {},
   "source": [
    "#### Defined by User"
   ]
  },
  {
   "cell_type": "code",
   "execution_count": null,
   "metadata": {},
   "outputs": [],
   "source": [
    "## specify your Dkube username\n",
    "DKUBEUSERNAME = \"ocdkube\"\n",
    "\n",
    "## Define the model monitor name here that you will be creating \n",
    "MONITOR_NAME = \"insurance-mm-sgmkr-\" + strftime(\"%Y-%m-%d-%H-%M-%S\", gmtime())\n",
    "\n",
    "PREFIX = \"sagemaker/Demo-ModelMonitor\"\n",
    "\n",
    "## Dkube information\n",
    "TOKEN = os.getenv(\"DKUBE_USER_ACCESS_TOKEN\",\"\")\n",
    "DKUBE_URL = os.getenv(\"DKUBE_URL\",\"\")\n",
    "DKUBE_TRAINING_CODE_NAME = \"monitoring-examples\"\n",
    "\n",
    "### Specify Sagemaker details\n",
    "BUCKET = os.getenv(\"BUCKET\",\"\")\n",
    "ROLE = os.getenv(\"ROLE\",\"\")\n",
    "REGION_NAME = os.getenv(\"REGION_NAME\",\"\")\n",
    "\n",
    "ACCESS_KEY = os.getenv(\"AWS_ACCESS_KEY_ID\",\"\")\n",
    "SECRET_KEY = os.getenv(\"AWS_SECRET_ACCESS_KEY\",\"\")\n",
    "\n",
    "\n",
    "### Dkube Sagemaker cluster \n",
    "SAGEMAKER_DKUBE_CLUSTER_NAME = \"aws-sagemaker-cluster\"\n",
    "\n",
    "# dataset to be used as training data\n",
    "DKUBE_BASE_DATASET = \"insurance-data\"\n",
    "\n",
    "# the frequency with which monitoring will run\n",
    "RUN_FREQUENCY = 5\n",
    "\n",
    "if TOKEN == '' or DKUBEUSERNAME == '' or DKUBE_URL == '':\n",
    "    raise TypeError(\"Please fill the Dkube details first (TOKEN, DKUBE_URL, DKUBEUSERNAME)\")\n",
    "if ACCESS_KEY=='' or SECRET_KEY=='' or ROLE=='' or REGION_NAME=='' or BUCKET=='':\n",
    "    raise TypeError(\"Please fill the AWS_S3 details first (ACCESS_KEY, SECRET_KEY, ROLE, REGION_NAME, BUCKET)\")"
   ]
  },
  {
   "cell_type": "code",
   "execution_count": null,
   "metadata": {},
   "outputs": [],
   "source": [
    "sgmkr_config = {\"MONITOR_NAME\":MONITOR_NAME, \"DKUBEUSERNAME\":DKUBEUSERNAME,\n",
    "                \"TOKEN\":TOKEN, \"DKUBE_URL\":DKUBE_URL, \"ACCESS_KEY\":ACCESS_KEY,\n",
    "                \"SECRET_KEY\":SECRET_KEY, \"DKUBE_BASE_DATASET\":DKUBE_BASE_DATASET,\n",
    "                \"RUN_FREQUENCY\":RUN_FREQUENCY, \"DKUBE_TRAINING_CODE_NAME\":DKUBE_TRAINING_CODE_NAME,\n",
    "                \"BUCKET\":BUCKET, \"PREFIX\":PREFIX, \"ROLE\":ROLE, \"REGION_NAME\":REGION_NAME,\n",
    "                \"SAGEMAKER_DKUBE_CLUSTER_NAME\":SAGEMAKER_DKUBE_CLUSTER_NAME}\n",
    "%store sgmkr_config"
   ]
  },
  {
   "cell_type": "markdown",
   "metadata": {},
   "source": [
    "#### Dkube Resources"
   ]
  },
  {
   "cell_type": "code",
   "execution_count": null,
   "metadata": {},
   "outputs": [],
   "source": [
    "import time,json,shutil\n",
    "from dkube.sdk import *"
   ]
  },
  {
   "cell_type": "code",
   "execution_count": null,
   "metadata": {},
   "outputs": [],
   "source": [
    "api = DkubeApi(URL=DKUBE_URL,token=TOKEN)\n",
    "if DKUBEUSERNAME == api.validate_token()['username']:\n",
    "    pass\n",
    "else:\n",
    "    print(\"Invalid User, please check your username, first\")"
   ]
  },
  {
   "cell_type": "markdown",
   "metadata": {},
   "source": [
    "#### Dataset"
   ]
  },
  {
   "cell_type": "code",
   "execution_count": null,
   "metadata": {},
   "outputs": [],
   "source": [
    "try:\n",
    "    dataset = DkubeDataset(DKUBEUSERNAME, name=DKUBE_BASE_DATASET)\n",
    "    dataset.update_git_details(url=\"https://dkube-examples-data.s3.us-west-2.amazonaws.com/monitoring-insurance/training-data/insurance.csv\")\n",
    "    dataset.update_dataset_source(source=\"pub_url\")\n",
    "    api.create_dataset(dataset)\n",
    "except Exception as e:\n",
    "    if e.reason.lower()!=\"conflict\":\n",
    "        response = e.body\n",
    "        print(f\"Failed[{response.code}]: {response.message}\")"
   ]
  },
  {
   "cell_type": "markdown",
   "metadata": {},
   "source": [
    "### Model Monitor Datasets"
   ]
  },
  {
   "cell_type": "markdown",
   "metadata": {},
   "source": [
    "##### Labelled Dataset"
   ]
  },
  {
   "cell_type": "code",
   "execution_count": null,
   "metadata": {},
   "outputs": [],
   "source": [
    "gname = MONITOR_NAME+'-groundtruth'\n",
    "prefix = MONITOR_NAME+'/groundtruth'            \n",
    "\n",
    "try:\n",
    "    dataset = DkubeDataset(DKUBEUSERNAME, name=gname,remote=True)\n",
    "    dataset.update_dataset_source('aws_s3')\n",
    "    dataset.update_awss3_details(bucket=BUCKET,prefix=prefix,key=os.getenv(\"AWS_ACCESS_KEY_ID\",ACCESS_KEY),secret=os.getenv(\"AWS_SECRET_ACCESS_KEY\",SECRET_KEY))\n",
    "    api.create_dataset(dataset)\n",
    "    \n",
    "except Exception as e:\n",
    "    if e.reason:\n",
    "        if e.reason.lower() != \"conflict\":\n",
    "            response = e.body\n",
    "            print(f\"Failed[{response.code}]: {response.message}\")\n",
    "    else:\n",
    "        raise e"
   ]
  },
  {
   "cell_type": "markdown",
   "metadata": {},
   "source": [
    "#### Cleanup"
   ]
  },
  {
   "cell_type": "code",
   "execution_count": null,
   "metadata": {},
   "outputs": [],
   "source": [
    "## Set CLEANUP = True, after your experiment is complete.\n",
    "CLEANUP = False\n",
    "if CLEANUP:\n",
    "    api.delete_dataset(DKUBEUSERNAME,DKUBE_BASE_DATASET,force=True)\n",
    "    %store -d sgmkr_config"
   ]
  },
  {
   "cell_type": "code",
   "execution_count": null,
   "metadata": {},
   "outputs": [],
   "source": []
  }
 ],
 "metadata": {
  "kernelspec": {
   "display_name": "Python 3",
   "language": "python",
   "name": "python3"
  },
  "language_info": {
   "codemirror_mode": {
    "name": "ipython",
    "version": 3
   },
   "file_extension": ".py",
   "mimetype": "text/x-python",
   "name": "python",
   "nbconvert_exporter": "python",
   "pygments_lexer": "ipython3",
   "version": "3.10.7 (main, Sep 15 2022, 01:51:29) [Clang 14.0.0 (clang-1400.0.29.102)]"
  },
  "vscode": {
   "interpreter": {
    "hash": "aee8b7b246df8f9039afb4144a1f6fd8d2ca17a180786b69acc140d282b71a49"
   }
  }
 },
 "nbformat": 4,
 "nbformat_minor": 4
}
