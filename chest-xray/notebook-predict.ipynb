{
 "cells": [
  {
   "attachments": {},
   "cell_type": "markdown",
   "metadata": {},
   "source": [
    "Notebook to provide prediction on a chest x-ray based on a trained model\n",
    "\n",
    "The model is assumed to be available in the folder `./model`, written by the notebook `notebook-training.ipynb`, which needs to be run first\n",
    "\n",
    "This notebook loads the model, the does the prediction based on the image file name embedded in the code"
   ]
  },
  {
   "cell_type": "code",
   "execution_count": null,
   "metadata": {},
   "outputs": [],
   "source": [
    "import os\n",
    "import numpy as np\n",
    "import cv2\n",
    "import tensorflow as tf\n",
    "from tensorflow import keras\n",
    "from PIL import Image\n",
    "\n",
    "image_types = ('.jpg', 'jpeg', '.png', '.svg')\n",
    "\n",
    "# Ignore all warnings to clean up log file\n",
    "import warnings\n",
    "warnings.filterwarnings(\"ignore\")\n",
    "import requests\n",
    "requests.packages.urllib3.disable_warnings()\n",
    "\n",
    "# Check for TensorFlow version\n",
    "if tf.__version__ != \"2.6.0\":\n",
    "    raise Exception(\"Please use TensorFlow version 2.6.0\")"
   ]
  },
  {
   "attachments": {},
   "cell_type": "markdown",
   "metadata": {},
   "source": [
    "### Load the model"
   ]
  },
  {
   "cell_type": "code",
   "execution_count": null,
   "metadata": {},
   "outputs": [],
   "source": [
    "model = keras.models.load_model(\"./model\")\n",
    "model.summary()"
   ]
  },
  {
   "attachments": {},
   "cell_type": "markdown",
   "metadata": {},
   "source": [
    "### Read, convert, and resize the image"
   ]
  },
  {
   "cell_type": "code",
   "execution_count": null,
   "metadata": {},
   "outputs": [],
   "source": [
    "image = Image.open(\"./chest-xray-normal.jpeg\")\n",
    "image = image.resize((200,200))\n",
    "display(image)\n",
    "img_array = np.array(image)\n",
    "img_array = img_array.reshape(1,200,200, 1)\n",
    "print(img_array.shape)"
   ]
  },
  {
   "attachments": {},
   "cell_type": "markdown",
   "metadata": {},
   "source": [
    "### Predict the output of the model"
   ]
  },
  {
   "cell_type": "code",
   "execution_count": null,
   "metadata": {},
   "outputs": [],
   "source": [
    "# Prediction from model\n",
    "prediction = model.predict(img_array)\n",
    "print(prediction)\n",
    "\n",
    "# Interpret the prediction\n",
    "if prediction[0][0] > prediction[0][1]:\n",
    "    print(\"Normal\")\n",
    "else:\n",
    "    print(\"Disease\")\n"
   ]
  }
 ],
 "metadata": {
  "language_info": {
   "name": "python"
  },
  "orig_nbformat": 4
 },
 "nbformat": 4,
 "nbformat_minor": 2
}
