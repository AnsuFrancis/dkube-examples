{
 "cells": [
  {
   "attachments": {},
   "cell_type": "markdown",
   "metadata": {},
   "source": [
    "Notebook file to clear out TensorBoard files to set up new training script.\n",
    "\n",
    "The TensorBoard files are expected to be in the folder identified by the environmental variable `DKUBE_TENSORBOARD_DIR`."
   ]
  },
  {
   "cell_type": "code",
   "execution_count": null,
   "metadata": {},
   "outputs": [],
   "source": [
    "import os\n",
    "\n",
    "! rm -rf $DKUBE_TENSORBOARD_DIR/*"
   ]
  }
 ],
 "metadata": {
  "language_info": {
   "name": "python"
  },
  "orig_nbformat": 4
 },
 "nbformat": 4,
 "nbformat_minor": 2
}
