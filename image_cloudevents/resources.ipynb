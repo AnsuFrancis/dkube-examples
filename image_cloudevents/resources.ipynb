{
 "cells": [
  {
   "cell_type": "markdown",
   "metadata": {},
   "source": [
    "#### Defined by User"
   ]
  },
  {
   "cell_type": "code",
   "execution_count": null,
   "metadata": {},
   "outputs": [],
   "source": [
    "import os\n",
    "from urllib.parse import urlparse\n",
    "\n",
    "## set this to false if you are running the notebook other than\n",
    "## the setup where deployment is running.\n",
    "RUNNING_IN_SAME = True\n",
    "\n",
    "######## Dkube information of serving cluster ########\n",
    "\n",
    "## if RUNNING_IN_SAME is False then provide\n",
    "## Serving Dkube URL with expernal IP, eg: https://{IP}:32222/\n",
    "## in else part\n",
    "# if your SERVING_DKUBE_URL dosn't have IP the provide the value for SERVING_DKUBE_IP mannually.\n",
    "if RUNNING_IN_SAME:\n",
    "    MINIO_ENDPOINT = os.getenv(\"MLFLOW_S3_ENDPOINT_URL\")\n",
    "    SERVING_DKUBE_URL = os.getenv(\"DKUBE_URL\")\n",
    "else:\n",
    "    SERVING_DKUBE_URL = \"\"\n",
    "    parsed_url = urlparse(SERVING_DKUBE_URL)\n",
    "    SERVING_DKUBE_IP = parsed_url.hostname\n",
    "    MINIO_ENDPOINT = f\"http://{SERVING_DKUBE_IP}:32221\"\n",
    "\n",
    "\n",
    "if (not SERVING_DKUBE_URL) or (not MINIO_ENDPOINT):\n",
    "    raise ValueError(\"Either SERVING_DKUBE_URL or MINIO_ENDPOINT is empty\")\n",
    "\n",
    "SERVING_DKUBE_USERNAME = os.getenv(\"DKUBE_USER_LOGIN_NAME\",\"\")\n",
    "\n",
    "SERVING_DKUBE_TOKEN = os.getenv(\"DKUBE_USER_ACCESS_TOKEN\",\"\")\n",
    "\n",
    "\n",
    "######## Dkube information of monitoring cluster ########\n",
    "\n",
    "## The following values are not required if \n",
    "## monitoring and serving is running in same Dkube Cluster\n",
    "MONITORING_DKUBE_URL = \"\"\n",
    "\n",
    "MONITORING_DKUBE_USERNAME = \"\"\n",
    "\n",
    "MONITORING_DKUBE_TOKEN = \"\"\n",
    "\n",
    "## name of serving cluster\n",
    "SERVING_DKUBE_CLUSTER_NAME = \"\"\n",
    "\n",
    "## Define the model monitor name here that you will be creating \n",
    "MONITOR_NAME = \"image-mm-kf\"\n",
    "\n",
    "# Required in train.ipynb to retrain the model\n",
    "DKUBE_TRAINING_CODE_NAME = \"monitoring-examples\"\n",
    "\n",
    "LIVE_DATASET =  MONITOR_NAME+'-s3'\n",
    "\n",
    "\n",
    "TRAINING_DATASET = 'chest-xray'\n",
    "\n",
    "# Model name to be created or used for example, it will create the model\n",
    "# if not existing otherwise it will ignore creation.\n",
    "MODEL_NAME = MONITOR_NAME\n",
    "\n",
    "# the frequency with which monitoring will run, value will be considered in minutes\n",
    "RUN_FREQUENCY = 5\n",
    "\n",
    "if not(SERVING_DKUBE_TOKEN and SERVING_DKUBE_USERNAME and SERVING_DKUBE_URL):\n",
    "    raise Exception(\"Please fill the Serving Dkube details first (SERVING_DKUBE_TOKEN, SERVING_DKUBE_URL, SERVING_DKUBE_USERNAME)\")\n",
    "    \n",
    "if (MONITORING_DKUBE_URL\n",
    "   and\n",
    "   not(MONITORING_DKUBE_USERNAME and MONITORING_DKUBE_TOKEN and SERVING_DKUBE_CLUSTER_NAME)):\n",
    "    raise Exception(\"Please fill the Monitoring Dkube details first (MONITORING_DKUBE_USERNAME, MONITORING_DKUBE_TOKEN, MONITORING_DKUBE_URL, SERVING_DKUBE_CLUSTER_NAME)\")"
   ]
  },
  {
   "cell_type": "markdown",
   "metadata": {},
   "source": [
    "#### Dkube Resources"
   ]
  },
  {
   "cell_type": "code",
   "execution_count": null,
   "metadata": {},
   "outputs": [],
   "source": [
    "import time,json\n",
    "from dkube.sdk import *"
   ]
  },
  {
   "cell_type": "code",
   "execution_count": null,
   "metadata": {},
   "outputs": [],
   "source": [
    "serving_api = DkubeApi(URL=SERVING_DKUBE_URL,token=SERVING_DKUBE_TOKEN)\n",
    "if SERVING_DKUBE_USERNAME == serving_api.validate_token()['username']:\n",
    "    pass\n",
    "else:\n",
    "    print(\"Invalid User, please check your username, first\")"
   ]
  },
  {
   "cell_type": "code",
   "execution_count": null,
   "metadata": {},
   "outputs": [],
   "source": [
    "data = serving_api.get_modelmonitor_id(MONITOR_NAME)\n",
    "if data.data:\n",
    "    MONITOR_ID = data.data.get(MONITOR_NAME)\n",
    "    if MONITOR_ID:\n",
    "        raise ValueError(f\"{MONITOR_NAME} already existing please use a different name\")"
   ]
  },
  {
   "cell_type": "code",
   "execution_count": null,
   "metadata": {},
   "outputs": [],
   "source": [
    "response =  serving_api.get_cloudevents_logstore_creds()\n",
    "MINIO_KEY = response[\"access_key_id\"]\n",
    "MINIO_SECRET_KEY = response[\"access_key\"]\n",
    "MINIO_BUCKET = response[\"bucket\"]"
   ]
  },
  {
   "cell_type": "code",
   "execution_count": null,
   "metadata": {},
   "outputs": [],
   "source": [
    "INPUT_TRAIN_TYPE = \"training\"\n",
    "image_exp_config = {\"MONITOR_NAME\":MONITOR_NAME,\n",
    "                    \"INPUT_TRAIN_TYPE\":INPUT_TRAIN_TYPE, \"SERVING_DKUBE_USERNAME\":SERVING_DKUBE_USERNAME,\n",
    "                    \"SERVING_DKUBE_URL\":SERVING_DKUBE_URL, \"SERVING_DKUBE_TOKEN\":SERVING_DKUBE_TOKEN, \n",
    "                    \"MINIO_KEY\":MINIO_KEY,\"MINIO_SECRET_KEY\":MINIO_SECRET_KEY, \"MINIO_ENDPOINT\":MINIO_ENDPOINT,\n",
    "                    \"MINIO_BUCKET\": MINIO_BUCKET,\n",
    "                    \"TRAINING_DATASET\":TRAINING_DATASET, \"RUN_FREQUENCY\":RUN_FREQUENCY,\n",
    "                    \"DKUBE_TRAINING_CODE_NAME\":DKUBE_TRAINING_CODE_NAME,\n",
    "                    \"LIVE_DATASET\":LIVE_DATASET,\n",
    "                    \"MONITORING_DKUBE_USERNAME\":MONITORING_DKUBE_USERNAME, \"MONITORING_DKUBE_TOKEN\":MONITORING_DKUBE_TOKEN,\n",
    "                    \"MONITORING_DKUBE_URL\":MONITORING_DKUBE_URL,\n",
    "                    \"SERVING_DKUBE_CLUSTER_NAME\":SERVING_DKUBE_CLUSTER_NAME}\n",
    "%store image_exp_config"
   ]
  },
  {
   "cell_type": "markdown",
   "metadata": {},
   "source": [
    "#### Dataset"
   ]
  },
  {
   "cell_type": "code",
   "execution_count": null,
   "metadata": {},
   "outputs": [],
   "source": [
    "try:\n",
    "    dataset = DkubeDataset(SERVING_DKUBE_USERNAME, name=TRAINING_DATASET)\n",
    "    dataset.update_dataset_source(source=\"git\")\n",
    "    dataset.update_git_details(url=\"https://github.com/oneconvergence/dkube-examples/tree/monitoring/image_cloudevents/data/chest-xray-mini\")\n",
    "    serving_api.create_dataset(dataset)\n",
    "except Exception as e:\n",
    "    if e.reason.lower()!=\"conflict\":\n",
    "        response = e.body\n",
    "        print(f\"Failed[{response.code}]: {response.message}\")"
   ]
  },
  {
   "cell_type": "markdown",
   "metadata": {},
   "source": [
    "\n",
    "#### Model"
   ]
  },
  {
   "cell_type": "code",
   "execution_count": null,
   "metadata": {},
   "outputs": [],
   "source": [
    "try:\n",
    "    model = DkubeModel(SERVING_DKUBE_USERNAME, name=MODEL_NAME)\n",
    "    model.update_model_source(source='dvs')\n",
    "    serving_api.create_model(model)\n",
    "except Exception as e:\n",
    "    if e.reason:\n",
    "        if e.reason.lower() != \"conflict\":\n",
    "            response = e.body\n",
    "            print(f\"Failed[{response.code}]: {response.message}\")\n",
    "    else:\n",
    "        raise e"
   ]
  },
  {
   "cell_type": "markdown",
   "metadata": {},
   "source": [
    "## Checking for seperate monitoring cluster and adding datasets accordingly."
   ]
  },
  {
   "cell_type": "code",
   "execution_count": null,
   "metadata": {},
   "outputs": [],
   "source": [
    "if MONITORING_DKUBE_URL:\n",
    "    monitoring_api = DkubeApi(URL=MONITORING_DKUBE_URL,token=MONITORING_DKUBE_TOKEN)\n",
    "    try:\n",
    "        dataset = DkubeDataset(MONITORING_DKUBE_USERNAME, name=TRAINING_DATASET)\n",
    "        dataset.update_dataset_source(source=\"git\")\n",
    "        dataset.update_git_details(url=\"https://github.com/oneconvergence/dkube-examples/tree/monitoring/image_cloudevents/data/chest-xray-mini\")\n",
    "        serving_api.create_dataset(dataset)\n",
    "    except Exception as e:\n",
    "        if e.reason.lower()!=\"conflict\":\n",
    "            response = e.body\n",
    "            print(f\"Failed[{response.code}]: {response.message}\")"
   ]
  },
  {
   "cell_type": "markdown",
   "metadata": {},
   "source": [
    "### Model Monitor Datasets"
   ]
  },
  {
   "cell_type": "markdown",
   "metadata": {},
   "source": [
    "##### Predict and labelled Dataset"
   ]
  },
  {
   "cell_type": "code",
   "execution_count": null,
   "metadata": {},
   "outputs": [],
   "source": [
    "if MONITORING_DKUBE_URL:\n",
    "    api = monitoring_api  \n",
    "    user = MONITORING_DKUBE_USERNAME\n",
    "else:\n",
    "    api = serving_api\n",
    "    user = SERVING_DKUBE_USERNAME"
   ]
  },
  {
   "cell_type": "code",
   "execution_count": null,
   "metadata": {},
   "outputs": [],
   "source": [
    "try:\n",
    "    dataset = DkubeDataset(user, name=LIVE_DATASET,remote=True)\n",
    "    dataset.update_dataset_source('s3')\n",
    "    dataset.update_s3_details(\n",
    "        endpoint = MINIO_ENDPOINT,\n",
    "        bucket=MINIO_BUCKET,\n",
    "        prefix='',\n",
    "        key=MINIO_KEY,\n",
    "        secret=MINIO_SECRET_KEY)\n",
    "    api.create_dataset(dataset)\n",
    "except Exception as e:\n",
    "    if e.reason:\n",
    "        if e.reason.lower() != \"conflict\":\n",
    "            response = e.body\n",
    "            print(f\"Failed[{response.code}]: {response.message}\")\n",
    "    else:\n",
    "        raise e"
   ]
  },
  {
   "cell_type": "markdown",
   "metadata": {},
   "source": [
    "#### Cleanup"
   ]
  },
  {
   "cell_type": "code",
   "execution_count": null,
   "metadata": {},
   "outputs": [],
   "source": [
    "## Set CLEANUP = True, after your experiment is complete.\n",
    "CLEANUP = False\n",
    "if CLEANUP:\n",
    "    api.delete_dataset(DKUBEUSERNAME,TRAINING_DATASET,force=True)\n",
    "    api.delete_dataset(DKUBEUSERNAME,S3_DATASET,force=True)\n",
    "    api.delete_model(DKUBEUSERNAME,MODEL_NAME,force=True)\n",
    "    %store -d image_exp_config"
   ]
  },
  {
   "cell_type": "code",
   "execution_count": null,
   "metadata": {},
   "outputs": [],
   "source": []
  }
 ],
 "metadata": {
  "kernelspec": {
   "display_name": "Python 3",
   "language": "python",
   "name": "python3"
  },
  "language_info": {
   "codemirror_mode": {
    "name": "ipython",
    "version": 3
   },
   "file_extension": ".py",
   "mimetype": "text/x-python",
   "name": "python",
   "nbconvert_exporter": "python",
   "pygments_lexer": "ipython3",
   "version": "3.10.7 (main, Sep 15 2022, 01:51:29) [Clang 14.0.0 (clang-1400.0.29.102)]"
  },
  "vscode": {
   "interpreter": {
    "hash": "aee8b7b246df8f9039afb4144a1f6fd8d2ca17a180786b69acc140d282b71a49"
   }
  }
 },
 "nbformat": 4,
 "nbformat_minor": 4
}
